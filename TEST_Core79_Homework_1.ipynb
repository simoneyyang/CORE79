{
  "nbformat": 4,
  "nbformat_minor": 0,
  "metadata": {
    "colab": {
      "provenance": [],
      "include_colab_link": true
    },
    "kernelspec": {
      "name": "python3",
      "display_name": "Python 3"
    },
    "language_info": {
      "name": "python"
    }
  },
  "cells": [
    {
      "cell_type": "markdown",
      "metadata": {
        "id": "view-in-github",
        "colab_type": "text"
      },
      "source": [
        "<a href=\"https://colab.research.google.com/github/simoneyyang/CORE79/blob/main/TEST_Core79_Homework_1.ipynb\" target=\"_parent\"><img src=\"https://colab.research.google.com/assets/colab-badge.svg\" alt=\"Open In Colab\"/></a>"
      ]
    },
    {
      "cell_type": "markdown",
      "source": [
        "# Question 1.1\n",
        "\n",
        "## Load data\n",
        "\n",
        "To load the weather data, you will need to:\n",
        "\n",
        "* Import the pandas library\n",
        "* Read the paradise_weather.csv file into a new Data Frame.\n",
        "\n",
        "*Hint: You can pass the whole url for the csv file [\"http://www.cs.hmc.edu/~julie/core79/paradise_weather.csv\"](http://www.cs.hmc.edu/~julie/core79/paradise_weather.csv) to the `read_csv` function!*\n",
        "\n",
        "The `paradise_weather` data set includes the following columns:\n",
        "\n",
        "* `Month`, which gives the month and year of the observation (e.g., `\"January, 2024\"`)\n",
        "* `Avg. Temp.`, which gives the mean average temperature, in degrees Farenheit, for the month\n",
        "* `Min. Temp.`, which gives the mean minimum temperature, in degrees Farenheit, for the month\n",
        "* `Max. Temp.`, which gives the mean maximum temperature, in degrees Farenheit, for the month\n",
        "* `Precipitation`, which gives the total precipitation, in inches, for the month\n"
      ],
      "metadata": {
        "id": "abpiwiMpxpR6"
      }
    },
    {
      "cell_type": "code",
      "source": [
        "# Your code for loading the data will go here.\n"
      ],
      "metadata": {
        "id": "WPftL9lfyfZa"
      },
      "execution_count": null,
      "outputs": []
    },
    {
      "cell_type": "markdown",
      "source": [
        "## Process columns\n",
        "\n",
        "You may need to add new columns to the Data Frame, e.g., to:\n",
        "\n",
        "* Turn a string into a `datetime` object\n",
        "* Create new columns that are computed from existing columns\n",
        "\n",
        "*Hint: You can give `to_datetime` a `format` argument that tells it how to read a column with date information in it. For a column with values like \"January, 2024\", you will want to use the `format` argument `format=\"%B, %Y\"`. `%B` is the formatting code for a month name, and `%Y` is the formatting code for a 4-digit date.*"
      ],
      "metadata": {
        "id": "eWwv8mnFyjYl"
      }
    },
    {
      "cell_type": "code",
      "source": [
        "# Your code for processing the columns will go here.\n"
      ],
      "metadata": {
        "id": "p-K93hfQzZ2c"
      },
      "execution_count": null,
      "outputs": []
    },
    {
      "cell_type": "markdown",
      "source": [
        "## Select and Group the data you want\n",
        "\n",
        "This step will involve deciding which row(s) are relevant to your analysis, grouping rows together, and then deciding how to combine the values from each group. You might use `size()`, `sum()`, or `mean()` here, depending on the analysis you're doing."
      ],
      "metadata": {
        "id": "-70-9gQEzfLU"
      }
    },
    {
      "cell_type": "code",
      "source": [
        "# Your code for selecting and grouping rows will go here.\n"
      ],
      "metadata": {
        "id": "-ZIn7YS6zw2q"
      },
      "execution_count": null,
      "outputs": []
    },
    {
      "cell_type": "markdown",
      "source": [
        "## Generate (and Save) your plot\n",
        "\n",
        "Remember to give your graph a title, and to label your axes!\n",
        "\n",
        "*Hint: When you save a file in Colab, it will save it to your Colab workspace. Click on the folder icon in the left sidebar, find your image file, click on the 3 dots to the right of the file name, and select \"Download\" to save the file to your own computer.*"
      ],
      "metadata": {
        "id": "dTzXo-Z5z2GW"
      }
    },
    {
      "cell_type": "code",
      "source": [
        "# Your code for creating (and labeling) your plot will go here.\n"
      ],
      "metadata": {
        "id": "RADqsJumz-27"
      },
      "execution_count": null,
      "outputs": []
    },
    {
      "cell_type": "markdown",
      "source": [
        "# Question 2.1\n",
        "\n",
        "## Load data\n",
        "\n",
        "To load the demographic data, you will need to:\n",
        "\n",
        "* Install the `pyogrio` and `mapclassify` with `pip`\n",
        "* Import the `geopandas` and `folium` libraries\n",
        "* Read the either the `ca_demographics.shp` or `hw1_fires.shp` shapefile into a new GeoDataFrame.\n",
        "* Read the set of relatively high area and low destructiveness fires into a GeoDataFrame.\n",
        "* Read the set of relatively low area and high destructiveness fires into a GeoDataFrame.\n",
        "\n",
        "The files you will use are:\n",
        "\n",
        "* http://www.cs.hmc.edu/~julie/core79/ca_demographics.shp or http://www.cs.hmc.edu/~julie/core79/hw1_fires.shp\n",
        "* http://www.cs.hmc.edu/~julie/core79/high_area.shp\n",
        "* http://www.cs.hmc.edu/~julie/core79/high_destructive.shp\n",
        "\n",
        "\n"
      ],
      "metadata": {
        "id": "KNdmXkvS0YR_"
      }
    },
    {
      "cell_type": "code",
      "source": [
        "# Your code for loading the data will go here.\n"
      ],
      "metadata": {
        "id": "3TE-381GgYHN"
      },
      "execution_count": null,
      "outputs": []
    },
    {
      "cell_type": "markdown",
      "source": [
        "## Map the demographic information\n",
        "\n",
        "Pick [a column from your demographics data set](https://docs.google.com/spreadsheets/d/1OF6heNJ62buQEho9uWKePeOzGVShNbqXw4vEKDEobzk/preview) to visualize on an interactive map."
      ],
      "metadata": {
        "id": "TVrGr1SNwxnD"
      }
    },
    {
      "cell_type": "code",
      "source": [
        "# Your code for mapping demographic data will go here.\n"
      ],
      "metadata": {
        "id": "qtSMXXa4hCj4"
      },
      "execution_count": null,
      "outputs": []
    },
    {
      "cell_type": "markdown",
      "source": [
        "## Map the fire locations\n",
        "\n",
        "Add the fire locations as points on your map. You should make the fires with large areas a different color from the fires with high destructiveness, so that you can distinguish them from one another in your map."
      ],
      "metadata": {
        "id": "gtDdpU6dxHdJ"
      }
    },
    {
      "cell_type": "code",
      "source": [
        "# Your code for adding fire locations will go here.\n"
      ],
      "metadata": {
        "id": "B3jfzZckxUlw"
      },
      "execution_count": null,
      "outputs": []
    },
    {
      "cell_type": "markdown",
      "source": [
        "## Save your map\n",
        "\n",
        "Save your map to an html file so that you can go back to it.\n",
        "\n",
        "When you are ready, capture one or more screenshots of different views of your map that you will include in your homework writeup."
      ],
      "metadata": {
        "id": "vgl56N3ixZfM"
      }
    },
    {
      "cell_type": "code",
      "source": [
        "# Your code for saving your map to html will go here.\n"
      ],
      "metadata": {
        "id": "XV3X15OAxvBx"
      },
      "execution_count": null,
      "outputs": []
    }
  ]
}